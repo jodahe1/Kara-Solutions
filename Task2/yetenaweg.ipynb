{
 "cells": [
  {
   "cell_type": "code",
   "execution_count": 4,
   "metadata": {},
   "outputs": [],
   "source": [
    "import pandas as pd\n"
   ]
  },
  {
   "cell_type": "code",
   "execution_count": 5,
   "metadata": {},
   "outputs": [],
   "source": [
    "# Read the dataset from the CSV file\n",
    "df = pd.read_csv('../Data/yetenaweg.csv')\n"
   ]
  },
  {
   "cell_type": "code",
   "execution_count": 17,
   "metadata": {},
   "outputs": [
    {
     "data": {
      "text/plain": [
       "<bound method DataFrame.info of     message_id                 date      sender_id  \\\n",
       "1         1082  2024-06-09 15:28:37  1001447066276   \n",
       "2         1081  2024-06-09 15:05:18  1001447066276   \n",
       "5         1078  2024-06-06 07:51:30  1001447066276   \n",
       "6         1077  2024-06-05 20:27:37  1001447066276   \n",
       "12        1071  2024-05-31 17:24:29  1001447066276   \n",
       "13        1070  2024-05-29 05:23:45  1001447066276   \n",
       "17        1066  2024-05-28 11:40:33  1001447066276   \n",
       "19        1064  2024-05-26 15:03:01  1001447066276   \n",
       "22        1061  2024-05-23 05:12:24  1001447066276   \n",
       "25        1058  2024-05-19 14:59:23  1001447066276   \n",
       "28        1055  2024-05-18 07:43:58  1001447066276   \n",
       "34        1049  2024-05-17 13:58:24  1001447066276   \n",
       "38        1039  2024-05-16 04:40:48  1001447066276   \n",
       "40        1037  2024-05-14 11:05:55  1001447066276   \n",
       "43        1032  2024-05-07 14:23:24  1001447066276   \n",
       "44        1031  2024-05-06 08:12:41  1001447066276   \n",
       "45        1030  2024-05-01 17:29:59  1001447066276   \n",
       "48        1027  2024-04-30 04:24:57  1001447066276   \n",
       "49        1026  2024-04-29 15:48:44  1001447066276   \n",
       "51        1024  2024-04-28 15:03:37  1001447066276   \n",
       "53        1022  2024-04-26 19:00:53  1001447066276   \n",
       "54        1021  2024-04-24 00:33:53  1001447066276   \n",
       "56        1019  2024-04-24 00:33:10  1001447066276   \n",
       "57        1018  2024-04-23 03:53:06  1001447066276   \n",
       "58        1017  2024-04-22 05:48:21  1001447066276   \n",
       "61        1014  2024-04-21 15:49:28  1001447066276   \n",
       "62        1013  2024-04-21 15:06:54  1001447066276   \n",
       "64        1011  2024-04-21 14:34:59  1001447066276   \n",
       "66        1009  2024-04-20 07:40:15  1001447066276   \n",
       "67        1008  2024-04-18 07:12:06  1001447066276   \n",
       "71        1004  2024-04-15 14:04:06  1001447066276   \n",
       "74        1001  2024-04-14 15:09:40  1001447066276   \n",
       "80         995  2024-04-13 06:03:23  1001447066276   \n",
       "81         994  2024-04-11 06:33:45  1001447066276   \n",
       "83         992  2024-04-03 13:29:29  1001447066276   \n",
       "84         991  2024-04-02 14:51:46  1001447066276   \n",
       "88         987  2024-04-02 07:03:25  1001447066276   \n",
       "89         986  2024-04-01 22:43:13  1001447066276   \n",
       "92         983  2024-03-31 15:08:18  1001447066276   \n",
       "94         981  2024-03-31 14:33:21  1001447066276   \n",
       "97         978  2024-03-30 04:25:21  1001447066276   \n",
       "98         977  2024-03-27 04:58:10  1001447066276   \n",
       "\n",
       "                                              message  \n",
       "1                                        ጥያቄያችሁን አጋሩን  \n",
       "2   https://t.me/yetenaweg?livestream\\r\\n\\r\\nስለ ኩላ...  \n",
       "5   📣በዚህ እሁድ በቴሌግራም ቀጥታ ስርጭት የኩላሊት በሽታ ክትትል እና የዳያ...  \n",
       "6   https://www.clubhouse.com/room/xlOVk34E?utm_me...  \n",
       "12  የዘንድሮ የዓለም አቀፍ ከትምባሆ ነጻ ቀን በአለም አቀፍ ደረጃ  ‹‹ህፃና...  \n",
       "13  📣 ስትሮክ በሽታና ምልክቶቹ\\r\\n\\r\\n💥ስትሮክ ማለት በድንገት የሚከሰት...  \n",
       "17  የወር አበባ ንፅህና አጠባበቅ\\r\\n\\r\\n✍✍በየአመቱ በፈረንጆች ግንቦት ...  \n",
       "19                                           ተጀምሯል !!  \n",
       "22  የጤና ወግ  🔴የራስ ምታት🔴 በሚል ርዕስ በቴሌግራም ቀጥታ ስርጭት ውይይት...  \n",
       "25                                           ተጀምሯል !!  \n",
       "28  Weekend with Yetena Weg! 🌟\\r\\n\\r\\nJoin us for ...  \n",
       "34  የደም ግፊት መጨመር እና የጤና መዘዞቹ!\\r\\n\\r\\n✍✍ የደም ግፊት መጨ...  \n",
       "38  የጤና ወግ የዓለም አቀፍ የተደራሽነት ቀንን ስለ ቴክኖሎጂና ዲጂታል ተደራ...  \n",
       "40  🔥በዚህ እሁድ በቴሌግራም ቀጥታ ስርጭት ትኩሳት ያለው ልጅ በሚል ርዕስ በ...  \n",
       "43  💥የጀርባ ህመም\\r\\n\\r\\n👉 የጀርባ ህመም ምንድን ነው? \\r\\n\\r\\n👉...  \n",
       "44  🫀ልብ እና ጉሮሮን ምን አገናኘው?🤔\\r\\n\\r\\n❤️ሪዩማቲክ የልብ በሽታ ...  \n",
       "45  On #MayDay, let's honor Ethiopia's healthcare ...  \n",
       "48  🎗የአለም የክትባት ሳምንት በየአመቱ በፈረንጆቹ የሚያዚያ ወር የመጨረሻ ሳ...  \n",
       "49  💥የቤተሰብ እቅድ\\r\\n\\r\\n👉 የቤተሰብ እቅድ ምንድን ነው? \\r\\n\\r\\...  \n",
       "51                                           ተጀምራል!!!  \n",
       "53                                 በዚህ ሳምንት ያሉን ዝግጅቶች  \n",
       "54                                       ጥያቄያችሁን ላኩልን  \n",
       "56  📌ስለ ጀርባ ህመም ማወቅ ይፈልጋሉ?\\r\\n\\r\\n🔴በዚህ እሁድ የቴሌግራም ...  \n",
       "57  💥የቤተሰብ እቅድ\\r\\n\\r\\n👉 የቤተሰብ እቅድ ምንድን ነው? \\r\\n\\r\\...  \n",
       "58  📌ስለ ሪህ ምን ያህል ያውቃሉ?\\r\\n\\r\\n📜ሪህ በመገጣጠሚያዎች ላይ ህመ...  \n",
       "61  ስለ የመማር ክህሎት እክል ጥያቄ ካላችሁ \\r\\n\\r\\nየቀጥታ ውይይት ከባ...  \n",
       "62                                           ተጀምራል!!!  \n",
       "64  ውይይታችን ከ30 ደቂቃ በኋላ ይጀመራል\\r\\nከእንግዶቻችን ጋር የመማር እ...  \n",
       "66  Weekend with Yetena Weg! 🌟\\r\\n\\r\\nJoin us for ...  \n",
       "67  📚የጤና ወግ በዚህ እሁድ በቴሌግራም ቀጥታ ስርጭት ✨የመማር እክል✨ በሚል...  \n",
       "71  👉የቤተሰብ እቅድ ግለሰቦችና ጥንዶች የሚፈለጉትን የልጆች ቁጥር እንዲሁም ...  \n",
       "74                                           ጀምሯል !!!  \n",
       "80  Weekend with Yetena Weg! 🌟\\r\\n\\r\\nJoin us for ...  \n",
       "81  ⚡️በዚህ እሁድ የቴሌግራም ቀጥታ ስርጭት ውይይታችንን ይቀላቀሉ።\\r\\n\\r...  \n",
       "83  የጤና ወግ በማህበራዊ ሚዲያዎች ላይ በተደረገ የገንዘብ ማሰባሰብ ባገኘው ...  \n",
       "84  💥የኦቲዝም ስፔክትረም ዲስኦርደር\\r\\n\\r\\n👉 ኦቲዝም ምንድን ነው? \\r...  \n",
       "88  🟢የአለም የኦቲዝም  ግንዛቤ ቀን በየአመቱ በመጋቢት 24 ቀን እንደሚከበር...  \n",
       "89  👆🏾🌟#የጤናወግ  የቴሌግራም ውይይት \\r\\n 🎙️🎛️  የተቀረፀ \\r\\n\\r...  \n",
       "92                                           ጀምሯል !!!  \n",
       "94                 🔔 ከተወሰኑ ደቂቃዎች በሗላ ውይይታችን ይጀመራል!!!!  \n",
       "97  Weekend with Yetena Weg! 🌟\\r\\n\\r\\nJoin us for ...  \n",
       "98  🔔በዚህ እሁድ በቴሌግራም ቀጥታ ስርጭታችን  ስለ ቆዳ ህመም እንወያይ  \\...  >"
      ]
     },
     "execution_count": 17,
     "metadata": {},
     "output_type": "execute_result"
    }
   ],
   "source": [
    "df.info"
   ]
  },
  {
   "cell_type": "code",
   "execution_count": 8,
   "metadata": {},
   "outputs": [],
   "source": [
    "# Removing duplicates\n",
    "df = df.drop_duplicates()\n"
   ]
  },
  {
   "cell_type": "code",
   "execution_count": 9,
   "metadata": {},
   "outputs": [],
   "source": [
    "# Handling missing values\n",
    "df = df.dropna()"
   ]
  },
  {
   "cell_type": "code",
   "execution_count": 10,
   "metadata": {},
   "outputs": [],
   "source": [
    "# Standardizing formats\n",
    "df.loc[:, 'date'] = pd.to_datetime(df['date']).dt.strftime('%Y-%m-%d %H:%M:%S')"
   ]
  },
  {
   "cell_type": "code",
   "execution_count": 11,
   "metadata": {},
   "outputs": [],
   "source": [
    "#Checking for invalid message IDs\n",
    "invalid_message_ids = df[~df['message_id'].astype(str).str.isnumeric()]"
   ]
  },
  {
   "cell_type": "code",
   "execution_count": 12,
   "metadata": {},
   "outputs": [],
   "source": [
    "#Checking for empty sender IDs\n",
    "empty_sender_ids = df[df['sender_id'].isnull() | df['sender_id'] == '']"
   ]
  },
  {
   "cell_type": "code",
   "execution_count": 13,
   "metadata": {},
   "outputs": [],
   "source": [
    "#Checking for inconsistent date ranges\n",
    "invalid_dates = df[~df['date'].between('start_date', 'end_date')]"
   ]
  },
  {
   "cell_type": "code",
   "execution_count": 14,
   "metadata": {},
   "outputs": [],
   "source": [
    "#Checking for invalid characters in the message conten\n",
    "invalid_characters = df[df['message'].str.contains(r'invalid_characters')]"
   ]
  },
  {
   "cell_type": "code",
   "execution_count": 15,
   "metadata": {},
   "outputs": [],
   "source": [
    "#  Convert sender_id to string and remove \"-\"\n",
    "df.loc[:, 'sender_id'] = df['sender_id'].astype(str).str.replace('-', '')"
   ]
  },
  {
   "cell_type": "code",
   "execution_count": 16,
   "metadata": {},
   "outputs": [],
   "source": [
    "# Log monitor\n",
    "with open('logEAHCID.txt', 'a') as log_file:\n",
    "    log_file.write(\"Data cleaning for yetenawef completed successfully.\\n\")"
   ]
  },
  {
   "cell_type": "code",
   "execution_count": 18,
   "metadata": {},
   "outputs": [],
   "source": [
    "# Exporting the cleaned_data\n",
    "df.to_csv('YetenawegCleaned.csv', index=False)"
   ]
  }
 ],
 "metadata": {
  "kernelspec": {
   "display_name": "base",
   "language": "python",
   "name": "python3"
  },
  "language_info": {
   "codemirror_mode": {
    "name": "ipython",
    "version": 3
   },
   "file_extension": ".py",
   "mimetype": "text/x-python",
   "name": "python",
   "nbconvert_exporter": "python",
   "pygments_lexer": "ipython3",
   "version": "3.11.7"
  }
 },
 "nbformat": 4,
 "nbformat_minor": 2
}
