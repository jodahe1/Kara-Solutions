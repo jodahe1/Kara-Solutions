{
 "cells": [
  {
   "cell_type": "code",
   "execution_count": 1,
   "metadata": {},
   "outputs": [],
   "source": [
    "import pandas as pd\n"
   ]
  },
  {
   "cell_type": "code",
   "execution_count": 2,
   "metadata": {},
   "outputs": [],
   "source": [
    "# Read the dataset from the CSV file\n",
    "df = pd.read_csv('../Data/yetenaweg.csv')\n"
   ]
  },
  {
   "cell_type": "code",
   "execution_count": 3,
   "metadata": {},
   "outputs": [
    {
     "data": {
      "text/plain": [
       "<bound method DataFrame.info of     message_id                       date      sender_id  \\\n",
       "0         1083  2024-06-09 16:36:21+00:00 -1001447066276   \n",
       "1         1082  2024-06-09 15:28:37+00:00 -1001447066276   \n",
       "2         1081  2024-06-09 15:05:18+00:00 -1001447066276   \n",
       "3         1080  2024-06-09 15:01:25+00:00 -1001447066276   \n",
       "4         1079  2024-06-06 07:51:31+00:00 -1001447066276   \n",
       "..         ...                        ...            ...   \n",
       "95         980  2024-03-30 04:25:22+00:00 -1001447066276   \n",
       "96         979  2024-03-30 04:25:22+00:00 -1001447066276   \n",
       "97         978  2024-03-30 04:25:21+00:00 -1001447066276   \n",
       "98         977  2024-03-27 04:58:10+00:00 -1001447066276   \n",
       "99         976  2024-03-26 19:05:50+00:00 -1001447066276   \n",
       "\n",
       "                                              message  \n",
       "0                                                 NaN  \n",
       "1                                        ጥያቄያችሁን አጋሩን  \n",
       "2   https://t.me/yetenaweg?livestream\\r\\n\\r\\nስለ ኩላ...  \n",
       "3                                                 NaN  \n",
       "4                                                 NaN  \n",
       "..                                                ...  \n",
       "95                                                NaN  \n",
       "96                                                NaN  \n",
       "97  Weekend with Yetena Weg! 🌟\\r\\n\\r\\nJoin us for ...  \n",
       "98  🔔በዚህ እሁድ በቴሌግራም ቀጥታ ስርጭታችን  ስለ ቆዳ ህመም እንወያይ  \\...  \n",
       "99                                                NaN  \n",
       "\n",
       "[100 rows x 4 columns]>"
      ]
     },
     "execution_count": 3,
     "metadata": {},
     "output_type": "execute_result"
    }
   ],
   "source": [
    "df.info"
   ]
  },
  {
   "cell_type": "code",
   "execution_count": 4,
   "metadata": {},
   "outputs": [],
   "source": [
    "# Removing duplicates\n",
    "df = df.drop_duplicates()\n"
   ]
  },
  {
   "cell_type": "code",
   "execution_count": 5,
   "metadata": {},
   "outputs": [],
   "source": [
    "# Handling missing values\n",
    "df = df.dropna()"
   ]
  },
  {
   "cell_type": "code",
   "execution_count": 6,
   "metadata": {},
   "outputs": [],
   "source": [
    "# Standardizing formats\n",
    "df.loc[:, 'date'] = pd.to_datetime(df['date']).dt.strftime('%Y-%m-%d %H:%M:%S')"
   ]
  },
  {
   "cell_type": "code",
   "execution_count": 7,
   "metadata": {},
   "outputs": [],
   "source": [
    "#Checking for invalid message IDs\n",
    "invalid_message_ids = df[~df['message_id'].astype(str).str.isnumeric()]"
   ]
  },
  {
   "cell_type": "code",
   "execution_count": 8,
   "metadata": {},
   "outputs": [],
   "source": [
    "#Checking for empty sender IDs\n",
    "empty_sender_ids = df[df['sender_id'].isnull() | df['sender_id'] == '']"
   ]
  },
  {
   "cell_type": "code",
   "execution_count": 9,
   "metadata": {},
   "outputs": [],
   "source": [
    "#Checking for inconsistent date ranges\n",
    "invalid_dates = df[~df['date'].between('start_date', 'end_date')]"
   ]
  },
  {
   "cell_type": "code",
   "execution_count": 10,
   "metadata": {},
   "outputs": [],
   "source": [
    "#Checking for invalid characters in the message conten\n",
    "invalid_characters = df[df['message'].str.contains(r'invalid_characters')]"
   ]
  },
  {
   "cell_type": "code",
   "execution_count": 11,
   "metadata": {},
   "outputs": [],
   "source": [
    "#  Convert sender_id to string and remove \"-\"\n",
    "df.loc[:, 'sender_id'] = df['sender_id'].astype(str).str.replace('-', '')"
   ]
  },
  {
   "cell_type": "code",
   "execution_count": 12,
   "metadata": {},
   "outputs": [],
   "source": [
    "# Log monitor\n",
    "with open('logEAHCID.txt', 'a') as log_file:\n",
    "    log_file.write(\"Data cleaning for yetenawef completed successfully.\\n\")"
   ]
  }
 ],
 "metadata": {
  "kernelspec": {
   "display_name": "base",
   "language": "python",
   "name": "python3"
  },
  "language_info": {
   "codemirror_mode": {
    "name": "ipython",
    "version": 3
   },
   "file_extension": ".py",
   "mimetype": "text/x-python",
   "name": "python",
   "nbconvert_exporter": "python",
   "pygments_lexer": "ipython3",
   "version": "3.11.7"
  }
 },
 "nbformat": 4,
 "nbformat_minor": 2
}
