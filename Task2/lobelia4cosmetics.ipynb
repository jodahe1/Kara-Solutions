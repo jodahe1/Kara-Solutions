{
 "cells": [
  {
   "cell_type": "code",
   "execution_count": 1,
   "metadata": {},
   "outputs": [],
   "source": [
    "import pandas as pd\n"
   ]
  },
  {
   "cell_type": "code",
   "execution_count": 2,
   "metadata": {},
   "outputs": [],
   "source": [
    "# Read the dataset from the CSV file\n",
    "df = pd.read_csv('../Data/lobelia4cosmetics.csv')\n"
   ]
  },
  {
   "cell_type": "code",
   "execution_count": 15,
   "metadata": {},
   "outputs": [
    {
     "data": {
      "text/plain": [
       "<bound method DataFrame.info of     message_id                 date      sender_id  \\\n",
       "0         9412  2024-06-11 06:39:10  1001666492664   \n",
       "1         9411  2024-06-11 06:39:10  1001666492664   \n",
       "2         9410  2024-06-11 06:39:10  1001666492664   \n",
       "3         9409  2024-06-11 06:39:10  1001666492664   \n",
       "4         9408  2024-06-11 06:39:10  1001666492664   \n",
       "..         ...                  ...            ...   \n",
       "95        9312  2024-05-30 12:09:07  1001666492664   \n",
       "96        9311  2024-05-30 12:09:07  1001666492664   \n",
       "97        9310  2024-05-30 12:09:07  1001666492664   \n",
       "98        9309  2024-05-30 12:09:07  1001666492664   \n",
       "99        9308  2024-05-30 12:09:07  1001666492664   \n",
       "\n",
       "                                              message  \\\n",
       "0   Enfamil NEURO PRO GENTLEASE\\r\\nPrice 5500 birr...   \n",
       "1   ENFAMIL A PLUS 765GM \\r\\nPrice 5500 birr \\r\\nT...   \n",
       "2   SIMILAC ADVANCE \\r\\nPrice 3700 birr \\r\\nTelegr...   \n",
       "3   go & grow 850gm\\r\\nPrice 5300 birr \\r\\nTelegra...   \n",
       "4   NAN PREMATURE\\r\\nPrice 2500 birr \\r\\nTelegram ...   \n",
       "..                                                ...   \n",
       "95  BIOTIN 220 GUMMIES \\r\\nPrice 4000 birr \\r\\nTel...   \n",
       "96  SPRING VALLEY PRENATAL\\r\\nPrice 4500 birr \\r\\n...   \n",
       "97  ASPRIN 81mg 365 tablets \\r\\nPrice 3000 birr \\r...   \n",
       "98  GLUCOSAMINE 1000MG/100MG 90 CAPSULES \\r\\nPrice...   \n",
       "99  NATURES BOUNTY VITAMIN B12 200 TABLETS \\r\\nPri...   \n",
       "\n",
       "                          media_path  \n",
       "0   scraping/data/raw/media/9412.jpg  \n",
       "1   scraping/data/raw/media/9411.jpg  \n",
       "2   scraping/data/raw/media/9410.jpg  \n",
       "3   scraping/data/raw/media/9409.jpg  \n",
       "4   scraping/data/raw/media/9408.jpg  \n",
       "..                               ...  \n",
       "95  scraping/data/raw/media/9312.jpg  \n",
       "96  scraping/data/raw/media/9311.jpg  \n",
       "97  scraping/data/raw/media/9310.jpg  \n",
       "98  scraping/data/raw/media/9309.jpg  \n",
       "99  scraping/data/raw/media/9308.jpg  \n",
       "\n",
       "[99 rows x 5 columns]>"
      ]
     },
     "execution_count": 15,
     "metadata": {},
     "output_type": "execute_result"
    }
   ],
   "source": [
    "df.info"
   ]
  },
  {
   "cell_type": "code",
   "execution_count": 4,
   "metadata": {},
   "outputs": [],
   "source": [
    "# Removing duplicates\n",
    "df = df.drop_duplicates()\n"
   ]
  },
  {
   "cell_type": "code",
   "execution_count": 5,
   "metadata": {},
   "outputs": [],
   "source": [
    "# Handling missing values\n",
    "df = df.dropna()"
   ]
  },
  {
   "cell_type": "code",
   "execution_count": 6,
   "metadata": {},
   "outputs": [],
   "source": [
    "# Standardizing formats\n",
    "df.loc[:, 'date'] = pd.to_datetime(df['date']).dt.strftime('%Y-%m-%d %H:%M:%S')"
   ]
  },
  {
   "cell_type": "code",
   "execution_count": 7,
   "metadata": {},
   "outputs": [],
   "source": [
    "#Checking for invalid message IDs\n",
    "invalid_message_ids = df[~df['message_id'].astype(str).str.isnumeric()]"
   ]
  },
  {
   "cell_type": "code",
   "execution_count": 8,
   "metadata": {},
   "outputs": [],
   "source": [
    "#Checking for empty sender IDs\n",
    "empty_sender_ids = df[df['sender_id'].isnull() | df['sender_id'] == '']"
   ]
  },
  {
   "cell_type": "code",
   "execution_count": 9,
   "metadata": {},
   "outputs": [],
   "source": [
    "#Checking for inconsistent date ranges\n",
    "invalid_dates = df[~df['date'].between('start_date', 'end_date')]"
   ]
  },
  {
   "cell_type": "code",
   "execution_count": 10,
   "metadata": {},
   "outputs": [],
   "source": [
    "#Checking for invalid characters in the message conten\n",
    "invalid_characters = df[df['message'].str.contains(r'invalid_characters')]"
   ]
  },
  {
   "cell_type": "code",
   "execution_count": 12,
   "metadata": {},
   "outputs": [],
   "source": [
    "#  Convert sender_id to string and remove \"-\"\n",
    "df['sender_id'] = df['sender_id'].astype(str).str.replace('-', '')"
   ]
  },
  {
   "cell_type": "code",
   "execution_count": 11,
   "metadata": {},
   "outputs": [],
   "source": [
    "# Log monitor\n",
    "with open('logEAHCID.txt', 'a') as log_file:\n",
    "    log_file.write(\"Data cleaning for lobelia4cosmetics completed successfully.\\n\")"
   ]
  }
 ],
 "metadata": {
  "kernelspec": {
   "display_name": "base",
   "language": "python",
   "name": "python3"
  },
  "language_info": {
   "codemirror_mode": {
    "name": "ipython",
    "version": 3
   },
   "file_extension": ".py",
   "mimetype": "text/x-python",
   "name": "python",
   "nbconvert_exporter": "python",
   "pygments_lexer": "ipython3",
   "version": "3.11.7"
  }
 },
 "nbformat": 4,
 "nbformat_minor": 2
}
