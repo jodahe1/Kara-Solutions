{
 "cells": [
  {
   "cell_type": "code",
   "execution_count": 1,
   "metadata": {},
   "outputs": [],
   "source": [
    "import pandas as pd\n"
   ]
  },
  {
   "cell_type": "code",
   "execution_count": 2,
   "metadata": {},
   "outputs": [],
   "source": [
    "# Read the dataset from the CSV file\n",
    "df = pd.read_csv('../Data/EAHCI.csv')\n"
   ]
  },
  {
   "cell_type": "code",
   "execution_count": 18,
   "metadata": {},
   "outputs": [
    {
     "data": {
      "text/plain": [
       "<bound method DataFrame.info of     message_id                 date      sender_id  \\\n",
       "1         2151  2024-06-10 14:41:34 -1001432982009   \n",
       "2         2150  2024-06-10 14:41:00 -1001432982009   \n",
       "3         2149  2024-06-10 10:15:33 -1001432982009   \n",
       "6         2146  2024-06-09 07:14:49 -1001432982009   \n",
       "7         2145  2024-06-08 07:54:48 -1001432982009   \n",
       "..         ...                  ...            ...   \n",
       "94        2053  2024-05-02 22:39:03 -1001432982009   \n",
       "95        2052  2024-05-02 20:39:49 -1001432982009   \n",
       "96        2050  2024-05-02 13:16:47 -1001432982009   \n",
       "98        2048  2024-05-01 07:23:25 -1001432982009   \n",
       "99        2047  2024-04-27 09:33:37 -1001432982009   \n",
       "\n",
       "                                              message  \n",
       "1   #💥የግርዛት_ስልጠና_Addis_Ababa\\r\\n#Circumcision_Skil...  \n",
       "2   #💥\\r\\n#CPD_(+Online )\\r\\n#ሰኔ 6 /2016 ይጀምራል(15 ...  \n",
       "3   💥ዛሬ ይጀምራል💥#የሞያ_ፈቃድ_በቅርቡ_ለምታሳድሱ(#ሰኞ_ይጀምራል )\\r\\n...  \n",
       "6   #Wolaita_Sodo_Ultrasound_Training-\\r\\n👉ሰኔ 9/20...  \n",
       "7   💥#የሞያ_ፈቃድ_በቅርቡ_ለምታሳድሱ(#ሰኞ_ይጀምራል )\\r\\n✔️#Title_...  \n",
       "..                                                ...  \n",
       "94  🕰 Vacancy Announcements(GP)\\r\\n\\r\\nOrganizatio...  \n",
       "95  #ቀጥታ_ከውጭ_በማስመጣት_ሀዋሳ_ላይ_በአስደሳች_ሂሳብ_ይከፋፈላል።\\r\\n\\...  \n",
       "96  #Addis_Ababa , #Hawassa\\r\\n#Ultrasound_Trainin...  \n",
       "98  በምስሉ የምትመለከቷት እህታችን ዶ/ር ቤቴል ገርማሞ ትባላለች። ከጥቂት አ...  \n",
       "99  💥#የሞያ_ፈቃድ_ለማደስ_CPD\\r\\n✔️#Title_Integrated Emer...  \n",
       "\n",
       "[76 rows x 4 columns]>"
      ]
     },
     "execution_count": 18,
     "metadata": {},
     "output_type": "execute_result"
    }
   ],
   "source": [
    "df.info"
   ]
  },
  {
   "cell_type": "code",
   "execution_count": 4,
   "metadata": {},
   "outputs": [],
   "source": [
    "# Removing duplicates\n",
    "df = df.drop_duplicates()\n"
   ]
  },
  {
   "cell_type": "code",
   "execution_count": 6,
   "metadata": {},
   "outputs": [],
   "source": [
    "# Handling missing values\n",
    "df = df.dropna()"
   ]
  },
  {
   "cell_type": "code",
   "execution_count": 9,
   "metadata": {},
   "outputs": [],
   "source": [
    "# Standardizing formats\n",
    "df.loc[:, 'date'] = pd.to_datetime(df['date']).dt.strftime('%Y-%m-%d %H:%M:%S')"
   ]
  },
  {
   "cell_type": "code",
   "execution_count": 11,
   "metadata": {},
   "outputs": [],
   "source": [
    "#Checking for invalid message IDs\n",
    "invalid_message_ids = df[~df['message_id'].astype(str).str.isnumeric()]"
   ]
  },
  {
   "cell_type": "code",
   "execution_count": 12,
   "metadata": {},
   "outputs": [],
   "source": [
    "#Checking for empty sender IDs\n",
    "empty_sender_ids = df[df['sender_id'].isnull() | df['sender_id'] == '']"
   ]
  },
  {
   "cell_type": "code",
   "execution_count": 14,
   "metadata": {},
   "outputs": [],
   "source": [
    "#Checking for inconsistent date ranges\n",
    "invalid_dates = df[~df['date'].between('start_date', 'end_date')]"
   ]
  },
  {
   "cell_type": "code",
   "execution_count": 19,
   "metadata": {},
   "outputs": [],
   "source": [
    "#Checking for invalid characters in the message conten\n",
    "invalid_characters = df[df['message'].str.contains(r'invalid_characters')]"
   ]
  },
  {
   "cell_type": "code",
   "execution_count": 25,
   "metadata": {},
   "outputs": [],
   "source": [
    "#  Convert sender_id to string and remove \"-\"\n",
    "df.loc[:, 'sender_id'] = df['sender_id'].astype(str).str.replace('-', '')"
   ]
  },
  {
   "cell_type": "code",
   "execution_count": 20,
   "metadata": {},
   "outputs": [],
   "source": [
    "# Log monitor\n",
    "with open('logEAHCID.txt', 'a') as log_file:\n",
    "    log_file.write(\"Data cleaning completed successfully.\\n\")"
   ]
  }
 ],
 "metadata": {
  "kernelspec": {
   "display_name": "base",
   "language": "python",
   "name": "python3"
  },
  "language_info": {
   "codemirror_mode": {
    "name": "ipython",
    "version": 3
   },
   "file_extension": ".py",
   "mimetype": "text/x-python",
   "name": "python",
   "nbconvert_exporter": "python",
   "pygments_lexer": "ipython3",
   "version": "3.11.7"
  }
 },
 "nbformat": 4,
 "nbformat_minor": 2
}
